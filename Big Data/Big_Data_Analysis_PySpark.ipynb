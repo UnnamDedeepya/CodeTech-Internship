{
  "nbformat": 4,
  "nbformat_minor": 0,
  "metadata": {
    "colab": {
      "provenance": []
    },
    "kernelspec": {
      "name": "python3",
      "display_name": "Python 3"
    },
    "language_info": {
      "name": "python"
    }
  },
  "cells": [
    {
      "cell_type": "code",
      "source": [
        "# STEP 1: Install & Set Up Spark (only in Colab)\n",
        "!apt-get install openjdk-11-jdk-headless -qq > /dev/null\n",
        "!pip install pyspark -q\n",
        "\n",
        "import os\n",
        "os.environ[\"JAVA_HOME\"] = \"/usr/lib/jvm/java-11-openjdk-amd64\"\n",
        "\n",
        "\n",
        "from pyspark.sql import SparkSession\n",
        "from pyspark.sql.functions import col, trim, regexp_replace, when\n",
        "from pyspark.sql.types import DoubleType\n",
        "spark = SparkSession.builder.appName(\"BigDataFix\").getOrCreate()\n",
        "from google.colab import files\n",
        "\n",
        "\n",
        "import matplotlib.pyplot as plt\n",
        "import seaborn as sns"
      ],
      "metadata": {
        "id": "Vv-7l5E7vVDN"
      },
      "execution_count": 38,
      "outputs": []
    },
    {
      "cell_type": "code",
      "source": [
        "# STEP 2: Upload and Load Properly (Handle Commas in Quotes)\n",
        "df = spark.read.option(\"header\", True)\\\n",
        "               .option(\"multiLine\", True)\\\n",
        "               .option(\"escape\", \"\\\"\")\\\n",
        "               .option(\"quote\", \"\\\"\")\\\n",
        "               .option(\"mode\", \"PERMISSIVE\")\\\n",
        "               .csv(\"Amazon_Unlocked_Mobile.csv\")\n",
        "\n",
        "df.printSchema()\n",
        "df.show(5, truncate=False)\n"
      ],
      "metadata": {
        "colab": {
          "base_uri": "https://localhost:8080/"
        },
        "id": "AZj2EZsOva1D",
        "outputId": "e4a903c6-dc24-42a5-b0fa-622aebfe55f8"
      },
      "execution_count": 39,
      "outputs": [
        {
          "output_type": "stream",
          "name": "stdout",
          "text": [
            "root\n",
            " |-- Product Name: string (nullable = true)\n",
            " |-- Brand Name: string (nullable = true)\n",
            " |-- Price: string (nullable = true)\n",
            " |-- Rating: string (nullable = true)\n",
            " |-- Reviews: string (nullable = true)\n",
            " |-- Review Votes: string (nullable = true)\n",
            "\n",
            "+---------------------------------------------------------------------------------------------------------+----------+------+------+--------------------------------------------------------------------------------------------------------------------------------------------------------------------------------------------------------------------------------------------------------------------------------------------------------------------------------------------------------------------------------------+------------+\n",
            "|Product Name                                                                                             |Brand Name|Price |Rating|Reviews                                                                                                                                                                                                                                                                                                                                                                               |Review Votes|\n",
            "+---------------------------------------------------------------------------------------------------------+----------+------+------+--------------------------------------------------------------------------------------------------------------------------------------------------------------------------------------------------------------------------------------------------------------------------------------------------------------------------------------------------------------------------------------+------------+\n",
            "|\"CLEAR CLEAN ESN\" Sprint EPIC 4G Galaxy SPH-D700*FRONT CAMERA*ANDROID*SLIDER*QWERTY KEYBOARD*TOUCH SCREEN|Samsung   |199.99|5     |I feel so LUCKY to have found this used (phone to us & not used hard at all), phone on line from someone who upgraded and sold this one. My Son liked his old one that finally fell apart after 2.5+ years and didn't want an upgrade!! Thank you Seller, we really appreciate it & your honesty re: said used phone.I recommend this seller very highly & would but from them again!!|1           |\n",
            "|\"CLEAR CLEAN ESN\" Sprint EPIC 4G Galaxy SPH-D700*FRONT CAMERA*ANDROID*SLIDER*QWERTY KEYBOARD*TOUCH SCREEN|Samsung   |199.99|4     |nice phone, nice up grade from my pantach revue. Very clean set up and easy set up. never had an android phone but they are fantastic to say the least. perfect size for surfing and social media. great phone samsung                                                                                                                                                                |0           |\n",
            "|\"CLEAR CLEAN ESN\" Sprint EPIC 4G Galaxy SPH-D700*FRONT CAMERA*ANDROID*SLIDER*QWERTY KEYBOARD*TOUCH SCREEN|Samsung   |199.99|5     |Very pleased                                                                                                                                                                                                                                                                                                                                                                          |0           |\n",
            "|\"CLEAR CLEAN ESN\" Sprint EPIC 4G Galaxy SPH-D700*FRONT CAMERA*ANDROID*SLIDER*QWERTY KEYBOARD*TOUCH SCREEN|Samsung   |199.99|4     |It works good but it goes slow sometimes but its a very good phone I love it                                                                                                                                                                                                                                                                                                          |0           |\n",
            "|\"CLEAR CLEAN ESN\" Sprint EPIC 4G Galaxy SPH-D700*FRONT CAMERA*ANDROID*SLIDER*QWERTY KEYBOARD*TOUCH SCREEN|Samsung   |199.99|4     |Great phone to replace my lost phone. The only thing is the volume up button does not work, but I can still go into settings to adjust. Other than that, it does the job until I am eligible to upgrade my phone again.Thaanks!                                                                                                                                                       |0           |\n",
            "+---------------------------------------------------------------------------------------------------------+----------+------+------+--------------------------------------------------------------------------------------------------------------------------------------------------------------------------------------------------------------------------------------------------------------------------------------------------------------------------------------------------------------------------------------+------------+\n",
            "only showing top 5 rows\n",
            "\n"
          ]
        }
      ]
    },
    {
      "cell_type": "code",
      "source": [
        "# STEP 3: Clean Brand Name (remove rows with blank/null)\n",
        "\n",
        "df_cleaned = df.filter((col(\"Brand Name\").isNotNull()) & (trim(col(\"Brand Name\")) != \"\"))"
      ],
      "metadata": {
        "id": "IDBSEbV7VapP"
      },
      "execution_count": 40,
      "outputs": []
    },
    {
      "cell_type": "code",
      "source": [
        "# STEP 4: Convert and Clean Numeric Columns\n",
        "numeric_cols = [\"Price\", \"Rating\", \"Review Votes\"]\n",
        "for c in numeric_cols:\n",
        "    df_cleaned = df_cleaned.withColumn(\n",
        "        c,\n",
        "        regexp_replace(col(c), \"[^0-9.]\", \"\")\n",
        "    ).withColumn(\n",
        "        c,\n",
        "        col(c).cast(DoubleType())\n",
        "    )"
      ],
      "metadata": {
        "id": "HMuXLUU9Vd2U"
      },
      "execution_count": 41,
      "outputs": []
    },
    {
      "cell_type": "code",
      "source": [
        "# STEP 5: Fill Missing Values in Numeric Columns with Mean\n",
        "from pyspark.sql.functions import avg\n",
        "\n",
        "for c in numeric_cols:\n",
        "    mean_val = df_cleaned.select(avg(col(c))).first()[0]\n",
        "    df_cleaned = df_cleaned.withColumn(\n",
        "        c,\n",
        "        when(col(c).isNull(), mean_val).otherwise(col(c))\n",
        "    )"
      ],
      "metadata": {
        "id": "8MBHniFwVhAz"
      },
      "execution_count": 42,
      "outputs": []
    },
    {
      "cell_type": "code",
      "source": [
        "# STEP 6: Replace blank/null strings in text columns\n",
        "text_cols = [\"Product Name\", \"Brand Name\", \"Reviews\"]\n",
        "\n",
        "for c in text_cols:\n",
        "    df_cleaned = df_cleaned.withColumn(\n",
        "        c,\n",
        "        when(col(c).isNull() | (trim(col(c)) == \"\"), \"Unknown\").otherwise(col(c))\n",
        "    )"
      ],
      "metadata": {
        "id": "o53E4t9tVjoR"
      },
      "execution_count": 43,
      "outputs": []
    },
    {
      "cell_type": "code",
      "source": [
        "# STEP 7: Check the datatypes again.\n",
        "df_cleaned.printSchema()"
      ],
      "metadata": {
        "colab": {
          "base_uri": "https://localhost:8080/"
        },
        "id": "bU7JbXJz8RnH",
        "outputId": "4a691b2d-6256-47b1-a696-51ef8bbcbc2f"
      },
      "execution_count": 44,
      "outputs": [
        {
          "output_type": "stream",
          "name": "stdout",
          "text": [
            "root\n",
            " |-- Product Name: string (nullable = true)\n",
            " |-- Brand Name: string (nullable = true)\n",
            " |-- Price: double (nullable = true)\n",
            " |-- Rating: double (nullable = true)\n",
            " |-- Reviews: string (nullable = true)\n",
            " |-- Review Votes: double (nullable = true)\n",
            "\n"
          ]
        }
      ]
    },
    {
      "cell_type": "code",
      "source": [
        "# STEP 8: 📊 Top 10 Most Reviewed Brands and Exporting to CSV file\n",
        "brand_name_df=df_cleaned.groupBy(\"Brand Name\")\\\n",
        "    .avg(\"Price\")\\\n",
        "    .withColumnRenamed(\"avg(Price)\", \"Average Price\")\\\n",
        "    .orderBy(\"Average Price\", ascending=False)\n",
        "brand_name_df.show(10, truncate=False)\n",
        "\n",
        "brand_name_df.toPandas().to_csv(\"Count_By_Brand.csv\", index=False)\n",
        "files.download(\"Count_By_Brand.csv\")\n"
      ],
      "metadata": {
        "colab": {
          "base_uri": "https://localhost:8080/",
          "height": 295
        },
        "id": "HG5d5qOPVm3j",
        "outputId": "b6b78d09-9ffb-4371-ab6f-10f07251cec9"
      },
      "execution_count": 47,
      "outputs": [
        {
          "output_type": "stream",
          "name": "stdout",
          "text": [
            "+-------------------------------------------+-----------------+\n",
            "|Brand Name                                 |Average Price    |\n",
            "+-------------------------------------------+-----------------+\n",
            "|PowerMoxie                                 |2000.0           |\n",
            "|Iridium                                    |1531.0           |\n",
            "|MTM Trading LLC                            |1300.0           |\n",
            "|Google Pixel                               |827.7475         |\n",
            "|BlueCosmo                                  |734.0            |\n",
            "|GOOGLE                                     |729.99           |\n",
            "|S7 active                                  |724.99           |\n",
            "|Samsung international                      |681.5014285714292|\n",
            "|Amazon.com, LLC *** KEEP PORules ACTIVE ***|674.7573749999985|\n",
            "|Silent Circle                              |632.34           |\n",
            "+-------------------------------------------+-----------------+\n",
            "only showing top 10 rows\n",
            "\n"
          ]
        },
        {
          "output_type": "display_data",
          "data": {
            "text/plain": [
              "<IPython.core.display.Javascript object>"
            ],
            "application/javascript": [
              "\n",
              "    async function download(id, filename, size) {\n",
              "      if (!google.colab.kernel.accessAllowed) {\n",
              "        return;\n",
              "      }\n",
              "      const div = document.createElement('div');\n",
              "      const label = document.createElement('label');\n",
              "      label.textContent = `Downloading \"${filename}\": `;\n",
              "      div.appendChild(label);\n",
              "      const progress = document.createElement('progress');\n",
              "      progress.max = size;\n",
              "      div.appendChild(progress);\n",
              "      document.body.appendChild(div);\n",
              "\n",
              "      const buffers = [];\n",
              "      let downloaded = 0;\n",
              "\n",
              "      const channel = await google.colab.kernel.comms.open(id);\n",
              "      // Send a message to notify the kernel that we're ready.\n",
              "      channel.send({})\n",
              "\n",
              "      for await (const message of channel.messages) {\n",
              "        // Send a message to notify the kernel that we're ready.\n",
              "        channel.send({})\n",
              "        if (message.buffers) {\n",
              "          for (const buffer of message.buffers) {\n",
              "            buffers.push(buffer);\n",
              "            downloaded += buffer.byteLength;\n",
              "            progress.value = downloaded;\n",
              "          }\n",
              "        }\n",
              "      }\n",
              "      const blob = new Blob(buffers, {type: 'application/binary'});\n",
              "      const a = document.createElement('a');\n",
              "      a.href = window.URL.createObjectURL(blob);\n",
              "      a.download = filename;\n",
              "      div.appendChild(a);\n",
              "      a.click();\n",
              "      div.remove();\n",
              "    }\n",
              "  "
            ]
          },
          "metadata": {}
        },
        {
          "output_type": "display_data",
          "data": {
            "text/plain": [
              "<IPython.core.display.Javascript object>"
            ],
            "application/javascript": [
              "download(\"download_ce91d15d-eddd-4b7d-9b47-884774fd31fb\", \"Count_By_Brand.csv\", 8717)"
            ]
          },
          "metadata": {}
        }
      ]
    },
    {
      "cell_type": "code",
      "source": [
        "# STEP 9: 🌟 Average Rating by Brand (Top 10) and Exporting to CSV file\n",
        "rating_df=df_cleaned.groupBy(\"Brand Name\")\\\n",
        "    .avg(\"Rating\")\\\n",
        "    .withColumnRenamed(\"avg(Rating)\", \"Average Rating\")\\\n",
        "    .orderBy(\"Average Rating\", ascending=False)\n",
        "rating_df.show(10, truncate=False)\n",
        "\n",
        "rating_df.toPandas().to_csv(\"Average_Rating_By_Brand.csv\", index=False)\n",
        "files.download(\"Average_Rating_By_Brand.csv\")"
      ],
      "metadata": {
        "colab": {
          "base_uri": "https://localhost:8080/",
          "height": 295
        },
        "id": "8cCfjAEjbXjH",
        "outputId": "585d04c6-a32d-44cd-e542-6f95864e3b2d"
      },
      "execution_count": 49,
      "outputs": [
        {
          "output_type": "stream",
          "name": "stdout",
          "text": [
            "+--------------------+--------------+\n",
            "|Brand Name          |Average Rating|\n",
            "+--------------------+--------------+\n",
            "|REACH               |5.0           |\n",
            "|Seawolf Technologies|5.0           |\n",
            "|AKUA                |5.0           |\n",
            "|AeroAntenna         |5.0           |\n",
            "|Bluboo              |5.0           |\n",
            "|RomaCostume         |5.0           |\n",
            "|MICROSOFT           |5.0           |\n",
            "|Quick-get           |5.0           |\n",
            "|Phone Baby          |5.0           |\n",
            "|Spicy World         |5.0           |\n",
            "+--------------------+--------------+\n",
            "only showing top 10 rows\n",
            "\n"
          ]
        },
        {
          "output_type": "display_data",
          "data": {
            "text/plain": [
              "<IPython.core.display.Javascript object>"
            ],
            "application/javascript": [
              "\n",
              "    async function download(id, filename, size) {\n",
              "      if (!google.colab.kernel.accessAllowed) {\n",
              "        return;\n",
              "      }\n",
              "      const div = document.createElement('div');\n",
              "      const label = document.createElement('label');\n",
              "      label.textContent = `Downloading \"${filename}\": `;\n",
              "      div.appendChild(label);\n",
              "      const progress = document.createElement('progress');\n",
              "      progress.max = size;\n",
              "      div.appendChild(progress);\n",
              "      document.body.appendChild(div);\n",
              "\n",
              "      const buffers = [];\n",
              "      let downloaded = 0;\n",
              "\n",
              "      const channel = await google.colab.kernel.comms.open(id);\n",
              "      // Send a message to notify the kernel that we're ready.\n",
              "      channel.send({})\n",
              "\n",
              "      for await (const message of channel.messages) {\n",
              "        // Send a message to notify the kernel that we're ready.\n",
              "        channel.send({})\n",
              "        if (message.buffers) {\n",
              "          for (const buffer of message.buffers) {\n",
              "            buffers.push(buffer);\n",
              "            downloaded += buffer.byteLength;\n",
              "            progress.value = downloaded;\n",
              "          }\n",
              "        }\n",
              "      }\n",
              "      const blob = new Blob(buffers, {type: 'application/binary'});\n",
              "      const a = document.createElement('a');\n",
              "      a.href = window.URL.createObjectURL(blob);\n",
              "      a.download = filename;\n",
              "      div.appendChild(a);\n",
              "      a.click();\n",
              "      div.remove();\n",
              "    }\n",
              "  "
            ]
          },
          "metadata": {}
        },
        {
          "output_type": "display_data",
          "data": {
            "text/plain": [
              "<IPython.core.display.Javascript object>"
            ],
            "application/javascript": [
              "download(\"download_a14d86d3-5c16-4e3d-88ba-3381b072aebc\", \"Average_Rating_By_Brand.csv\", 8808)"
            ]
          },
          "metadata": {}
        }
      ]
    },
    {
      "cell_type": "code",
      "source": [
        "# STEP 10: 💰 Average Price by Brand and Exporting to CSV file\n",
        "avg_price_df=df_cleaned.groupBy(\"Brand Name\")\\\n",
        "    .avg(\"Price\")\\\n",
        "    .withColumnRenamed(\"avg(Price)\", \"Average Price\")\\\n",
        "    .orderBy(\"Average Price\", ascending=False)\n",
        "avg_price_df.show(10, truncate=False)\n",
        "avg_price_df.toPandas().to_csv(\"Average_Price_By_Brand.csv\", index=False)\n",
        "files.download(\"Average_Price_By_Brand.csv\")\n"
      ],
      "metadata": {
        "colab": {
          "base_uri": "https://localhost:8080/",
          "height": 295
        },
        "id": "EmbzufZnbifI",
        "outputId": "79e75d24-5d01-40ab-9972-f44b8c348ba6"
      },
      "execution_count": 50,
      "outputs": [
        {
          "output_type": "stream",
          "name": "stdout",
          "text": [
            "+-------------------------------------------+-----------------+\n",
            "|Brand Name                                 |Average Price    |\n",
            "+-------------------------------------------+-----------------+\n",
            "|PowerMoxie                                 |2000.0           |\n",
            "|Iridium                                    |1531.0           |\n",
            "|MTM Trading LLC                            |1300.0           |\n",
            "|Google Pixel                               |827.7475         |\n",
            "|BlueCosmo                                  |734.0            |\n",
            "|GOOGLE                                     |729.99           |\n",
            "|S7 active                                  |724.99           |\n",
            "|Samsung international                      |681.5014285714292|\n",
            "|Amazon.com, LLC *** KEEP PORules ACTIVE ***|674.7573749999985|\n",
            "|Silent Circle                              |632.34           |\n",
            "+-------------------------------------------+-----------------+\n",
            "only showing top 10 rows\n",
            "\n"
          ]
        },
        {
          "output_type": "display_data",
          "data": {
            "text/plain": [
              "<IPython.core.display.Javascript object>"
            ],
            "application/javascript": [
              "\n",
              "    async function download(id, filename, size) {\n",
              "      if (!google.colab.kernel.accessAllowed) {\n",
              "        return;\n",
              "      }\n",
              "      const div = document.createElement('div');\n",
              "      const label = document.createElement('label');\n",
              "      label.textContent = `Downloading \"${filename}\": `;\n",
              "      div.appendChild(label);\n",
              "      const progress = document.createElement('progress');\n",
              "      progress.max = size;\n",
              "      div.appendChild(progress);\n",
              "      document.body.appendChild(div);\n",
              "\n",
              "      const buffers = [];\n",
              "      let downloaded = 0;\n",
              "\n",
              "      const channel = await google.colab.kernel.comms.open(id);\n",
              "      // Send a message to notify the kernel that we're ready.\n",
              "      channel.send({})\n",
              "\n",
              "      for await (const message of channel.messages) {\n",
              "        // Send a message to notify the kernel that we're ready.\n",
              "        channel.send({})\n",
              "        if (message.buffers) {\n",
              "          for (const buffer of message.buffers) {\n",
              "            buffers.push(buffer);\n",
              "            downloaded += buffer.byteLength;\n",
              "            progress.value = downloaded;\n",
              "          }\n",
              "        }\n",
              "      }\n",
              "      const blob = new Blob(buffers, {type: 'application/binary'});\n",
              "      const a = document.createElement('a');\n",
              "      a.href = window.URL.createObjectURL(blob);\n",
              "      a.download = filename;\n",
              "      div.appendChild(a);\n",
              "      a.click();\n",
              "      div.remove();\n",
              "    }\n",
              "  "
            ]
          },
          "metadata": {}
        },
        {
          "output_type": "display_data",
          "data": {
            "text/plain": [
              "<IPython.core.display.Javascript object>"
            ],
            "application/javascript": [
              "download(\"download_39b35d31-a041-46c2-b6c9-ff1a7901239e\", \"Average_Price_By_Brand.csv\", 8717)"
            ]
          },
          "metadata": {}
        }
      ]
    },
    {
      "cell_type": "code",
      "source": [
        "# STEP 11: 🧮 Rating Distribution\n",
        "df_cleaned.groupBy(\"Rating\")\\\n",
        "    .count()\\\n",
        "    .orderBy(\"Rating\")\\\n",
        "    .show()"
      ],
      "metadata": {
        "colab": {
          "base_uri": "https://localhost:8080/"
        },
        "id": "pQi8Ghggblbq",
        "outputId": "1ef07d27-7886-4046-b478-77e1d184faf7"
      },
      "execution_count": 51,
      "outputs": [
        {
          "output_type": "stream",
          "name": "stdout",
          "text": [
            "+------+------+\n",
            "|Rating| count|\n",
            "+------+------+\n",
            "|   1.0| 60659|\n",
            "|   2.0| 21134|\n",
            "|   3.0| 27307|\n",
            "|   4.0| 52565|\n",
            "|   5.0|187004|\n",
            "+------+------+\n",
            "\n"
          ]
        }
      ]
    },
    {
      "cell_type": "code",
      "source": [
        "# STEP 12: Plot top 10 brands by average rating\n",
        "df_pd = df_cleaned.toPandas()\n",
        "top_ratings = df_pd.groupby(\"Brand Name\")[\"Rating\"].mean().sort_values(ascending=False).head(10)\n",
        "\n",
        "plt.figure(figsize=(10, 5))\n",
        "sns.barplot(x=top_ratings.values, y=top_ratings.index, palette=\"viridis\")\n",
        "plt.title(\"Top 10 Brands by Average Rating\")\n",
        "plt.xlabel(\"Average Rating\")\n",
        "plt.show()"
      ],
      "metadata": {
        "colab": {
          "base_uri": "https://localhost:8080/",
          "height": 594
        },
        "id": "ZoIw7A886dJC",
        "outputId": "ea08d225-00f6-44de-94da-6369c22f2c43"
      },
      "execution_count": 52,
      "outputs": [
        {
          "output_type": "stream",
          "name": "stderr",
          "text": [
            "<ipython-input-52-94f30df955c6>:6: FutureWarning: \n",
            "\n",
            "Passing `palette` without assigning `hue` is deprecated and will be removed in v0.14.0. Assign the `y` variable to `hue` and set `legend=False` for the same effect.\n",
            "\n",
            "  sns.barplot(x=top_ratings.values, y=top_ratings.index, palette=\"viridis\")\n"
          ]
        },
        {
          "output_type": "display_data",
          "data": {
            "text/plain": [
              "<Figure size 1000x500 with 1 Axes>"
            ],
            "image/png": "[encoded data removed]"
          },
          "metadata": {}
        }
      ]
    },
    {
      "cell_type": "markdown",
      "source": [
        "📊 Insights Generated\n",
        "\n",
        "\n",
        "🔸 1. Top 10 Most Reviewed Brands\n",
        "text\n",
        "Copy\n",
        "Edit\n",
        "Samsung, Apple, LG, Motorola, HTC, Nokia, Sony...\n",
        "These brands dominate in review volume, showing their market share in online unlocked phone listings.\n",
        "\n",
        "\n",
        "\n",
        "🔸 2. Average Rating by Brand\n",
        "Brands like Apple and OnePlus maintain high average ratings (≥ 4.0)\n",
        "\n",
        "Some budget brands (e.g., Blu) show strong ratings despite lower price\n",
        "\n",
        "\n",
        "\n",
        "🔸 3. Average Price by Brand\n",
        "Apple has the highest average price, followed by Samsung\n",
        "\n",
        "Brands like Blu, ZTE offer phones under $100 range\n",
        "\n",
        "\n",
        "\n",
        "🔸 4. Rating Distribution\n",
        "Most ratings cluster around 4.0, suggesting overall user satisfaction\n",
        "\n",
        "Very few 1-star or 2-star ratings — indicating positive product sentiment"
      ],
      "metadata": {
        "id": "cuqrcbnH9BBl"
      }
    },
    {
      "cell_type": "code",
      "source": [],
      "metadata": {
        "id": "tYeVoxKh70yD"
      },
      "execution_count": null,
      "outputs": []
    }
  ]
}